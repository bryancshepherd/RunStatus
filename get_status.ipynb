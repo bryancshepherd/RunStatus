{
 "cells": [
  {
   "cell_type": "code",
   "execution_count": 1,
   "metadata": {
    "collapsed": false
   },
   "outputs": [],
   "source": [
    "#!/usr/bin/python\n",
    "import sys\n",
    "import urllib\n",
    "import re\n",
    "import os\n",
    "import importlib\n",
    "import twitter\n",
    "\n",
    "## Useful resources\n",
    "# https://learn.sparkfun.com/tutorials/resistors/example-applications\n",
    "# https://learn.sparkfun.com/tutorials/light-emitting-diodes-leds\n",
    "# https://en.wikipedia.org/wiki/LED\n",
    "\n",
    "# The RPi/Python/LED interface\n",
    "import RPi.GPIO as GPIO ## Import GPIO library"
   ]
  },
  {
   "cell_type": "code",
   "execution_count": 22,
   "metadata": {
    "collapsed": true
   },
   "outputs": [],
   "source": [
    "results = []\n",
    "with open('/Users/bryanshepherd/Projects/RunStatus/user_info.txt') as inputfile:\n",
    "    for line in inputfile:\n",
    "        results.append(line.strip().split(','))\n",
    "\n",
    "cons_key = results[0][0]\n",
    "cons_secret = results[1][0]\n",
    "acc_tok = results[2][0]\n",
    "acc_tok_sec = results[3][0]"
   ]
  },
  {
   "cell_type": "code",
   "execution_count": 23,
   "metadata": {
    "collapsed": true
   },
   "outputs": [],
   "source": [
    "# Log in\n",
    "api = twitter.Api(consumer_key=cons_key,\n",
    "                  consumer_secret=cons_secret,\n",
    "                  access_token_key=acc_tok,\n",
    "                  access_token_secret=acc_tok_sec)"
   ]
  },
  {
   "cell_type": "code",
   "execution_count": 27,
   "metadata": {
    "collapsed": false
   },
   "outputs": [],
   "source": [
    "# Get the current statuses\n",
    "statuses = api.GetUserTimeline('texxors')"
   ]
  },
  {
   "cell_type": "code",
   "execution_count": null,
   "metadata": {
    "collapsed": true
   },
   "outputs": [],
   "source": [
    "# Get the relevant msg text\n",
    "msg_text = status(statuses[0].text)"
   ]
  },
  {
   "cell_type": "code",
   "execution_count": null,
   "metadata": {
    "collapsed": true
   },
   "outputs": [],
   "source": [
    "### Work the lighting\n",
    "GPIO.setmode(GPIO.BCM) ## Use internal pin numbering\n",
    "\n",
    "# Initialize LEDs\n",
    "# Green light\n",
    "GPIO.setup(22, GPIO.OUT) ## Setup GPIO pin 25 to OUT\n",
    "\n",
    "# Initialize Pulse width modulation on GPIO 25. Frequency=100Hz and OFF\n",
    "pG = GPIO.PWM(22, 100)\n",
    "pG.start(0)\n",
    "\n",
    "# Red light\n",
    "GPIO.setup(25, GPIO.OUT) ## Setup GPIO pin 22 to OUT\n",
    "\n",
    "# Initialize Pulse width modulation on GPIO 22. Frequency=100Hz and OFF\n",
    "pR = GPIO.PWM(25, 100)\n",
    "pR.start(0)\n",
    "\n",
    "redIntensity = (sumThingGroupA/sumOfThings) * 100\n",
    "greenIntensity = (sumThingGroupB/sumOfThings) * 100\n",
    "\n",
    "# Update lighting\n",
    "if tweet_msg.text == 'working' #this is pseudo code for getting the message text\n",
    "pG.ChangeDutyCycle(greenIntensity)\n",
    "pR.ChangeDutyCycle(redIntensity)\n",
    "\n",
    "time.sleep(120)\n",
    "\n",
    "except KeyboardInterrupt:\n",
    "    pG.stop()\n",
    "    pR.stop()\n",
    "    GPIO.cleanup()\n",
    "    quit()\n"
   ]
  },
  {
   "cell_type": "code",
   "execution_count": null,
   "metadata": {
    "collapsed": true
   },
   "outputs": [],
   "source": [
    "# This is how you delete a status\n",
    "api.DestroyStatus(statuses[0].id)"
   ]
  }
 ],
 "metadata": {
  "kernelspec": {
   "display_name": "Python 3",
   "language": "python",
   "name": "python3"
  },
  "language_info": {
   "codemirror_mode": {
    "name": "ipython",
    "version": 3
   },
   "file_extension": ".py",
   "mimetype": "text/x-python",
   "name": "python",
   "nbconvert_exporter": "python",
   "pygments_lexer": "ipython3",
   "version": "3.4.2"
  }
 },
 "nbformat": 4,
 "nbformat_minor": 0
}
