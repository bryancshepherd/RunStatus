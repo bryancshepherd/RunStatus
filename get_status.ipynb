{
 "cells": [
  {
   "cell_type": "code",
   "execution_count": 1,
   "metadata": {
    "collapsed": false
   },
   "outputs": [],
   "source": [
    "#!/usr/bin/python\n",
    "import sys\n",
    "import urllib\n",
    "import re\n",
    "import os\n",
    "import importlib\n",
    "import twitter"
   ]
  },
  {
   "cell_type": "code",
   "execution_count": 22,
   "metadata": {
    "collapsed": true
   },
   "outputs": [],
   "source": [
    "results = []\n",
    "with open('/Users/bryanshepherd/Projects/RunStatus/user_info.txt') as inputfile:\n",
    "    for line in inputfile:\n",
    "        results.append(line.strip().split(','))\n",
    "\n",
    "cons_key = results[0][0]\n",
    "cons_secret = results[1][0]\n",
    "acc_tok = results[2][0]\n",
    "acc_tok_sec = results[3][0]"
   ]
  },
  {
   "cell_type": "code",
   "execution_count": 23,
   "metadata": {
    "collapsed": true
   },
   "outputs": [],
   "source": [
    "# Log in\n",
    "api = twitter.Api(consumer_key=cons_key,\n",
    "                  consumer_secret=cons_secret,\n",
    "                  access_token_key=acc_tok,\n",
    "                  access_token_secret=acc_tok_sec)"
   ]
  },
  {
   "cell_type": "code",
   "execution_count": 27,
   "metadata": {
    "collapsed": false
   },
   "outputs": [],
   "source": [
    "# Get the current statuses\n",
    "statuses = api.GetUserTimeline('texxors')"
   ]
  },
  {
   "cell_type": "code",
   "execution_count": 28,
   "metadata": {
    "collapsed": false,
    "scrolled": false
   },
   "outputs": [
    {
     "data": {
      "text/plain": [
       "Status(ID=239428449188593664, ScreenName='Texxors', Created='Sat Aug 25 18:26:05 +0000 2012', Text=Digital Freebies Week...Day 7 http://t.co/0LAObFMJ via @TheLatestFind)"
      ]
     },
     "execution_count": 28,
     "metadata": {},
     "output_type": "execute_result"
    }
   ],
   "source": [
    "# This is how you delete a status\n",
    "api.DestroyStatus(statuses[0].id)"
   ]
  }
 ],
 "metadata": {
  "kernelspec": {
   "display_name": "Python 3",
   "language": "python",
   "name": "python3"
  },
  "language_info": {
   "codemirror_mode": {
    "name": "ipython",
    "version": 3
   },
   "file_extension": ".py",
   "mimetype": "text/x-python",
   "name": "python",
   "nbconvert_exporter": "python",
   "pygments_lexer": "ipython3",
   "version": "3.5.1"
  }
 },
 "nbformat": 4,
 "nbformat_minor": 0
}
